{
 "cells": [
  {
   "cell_type": "code",
   "execution_count": 22,
   "id": "23dc918b-50d5-4694-b47b-bf6bf270cc10",
   "metadata": {},
   "outputs": [],
   "source": [
    "# Water Quality Prediction using Neural Networks\n"
   ]
  },
  {
   "cell_type": "code",
   "execution_count": 23,
   "id": "0741d06e-4a30-4a39-983d-4a0aa416f034",
   "metadata": {},
   "outputs": [],
   "source": [
    "import pandas as pd\n",
    "import numpy as np\n",
    "import matplotlib.pyplot as plt\n",
    "import seaborn as sns\n",
    "\n",
    "from sklearn.model_selection import train_test_split\n",
    "from sklearn.preprocessing import StandardScaler\n",
    "from sklearn.metrics import classification_report, confusion_matrix\n",
    "\n",
    "import tensorflow as tf\n",
    "from tensorflow.keras.models import Sequential\n",
    "from tensorflow.keras.layers import Dense, Dropout\n"
   ]
  },
  {
   "cell_type": "code",
   "execution_count": 24,
   "id": "a7aa39c2-65a0-4f78-98b2-e72d9f8a88d1",
   "metadata": {},
   "outputs": [
    {
     "data": {
      "text/html": [
       "<div>\n",
       "<style scoped>\n",
       "    .dataframe tbody tr th:only-of-type {\n",
       "        vertical-align: middle;\n",
       "    }\n",
       "\n",
       "    .dataframe tbody tr th {\n",
       "        vertical-align: top;\n",
       "    }\n",
       "\n",
       "    .dataframe thead th {\n",
       "        text-align: right;\n",
       "    }\n",
       "</style>\n",
       "<table border=\"1\" class=\"dataframe\">\n",
       "  <thead>\n",
       "    <tr style=\"text-align: right;\">\n",
       "      <th></th>\n",
       "      <th>ph</th>\n",
       "      <th>Hardness</th>\n",
       "      <th>Solids</th>\n",
       "      <th>Chloramines</th>\n",
       "      <th>Sulfate</th>\n",
       "      <th>Conductivity</th>\n",
       "      <th>Organic_carbon</th>\n",
       "      <th>Trihalomethanes</th>\n",
       "      <th>Turbidity</th>\n",
       "      <th>Potability</th>\n",
       "    </tr>\n",
       "  </thead>\n",
       "  <tbody>\n",
       "    <tr>\n",
       "      <th>0</th>\n",
       "      <td>6.7</td>\n",
       "      <td>204.89</td>\n",
       "      <td>20791.3</td>\n",
       "      <td>7.3</td>\n",
       "      <td>368.5</td>\n",
       "      <td>564.3</td>\n",
       "      <td>10.2</td>\n",
       "      <td>66.4</td>\n",
       "      <td>3.9</td>\n",
       "      <td>0</td>\n",
       "    </tr>\n",
       "    <tr>\n",
       "      <th>1</th>\n",
       "      <td>7.0</td>\n",
       "      <td>129.00</td>\n",
       "      <td>18630.1</td>\n",
       "      <td>6.5</td>\n",
       "      <td>310.1</td>\n",
       "      <td>592.4</td>\n",
       "      <td>11.3</td>\n",
       "      <td>60.1</td>\n",
       "      <td>4.2</td>\n",
       "      <td>1</td>\n",
       "    </tr>\n",
       "    <tr>\n",
       "      <th>2</th>\n",
       "      <td>8.1</td>\n",
       "      <td>224.00</td>\n",
       "      <td>19909.2</td>\n",
       "      <td>8.2</td>\n",
       "      <td>356.0</td>\n",
       "      <td>624.0</td>\n",
       "      <td>10.5</td>\n",
       "      <td>75.0</td>\n",
       "      <td>3.7</td>\n",
       "      <td>0</td>\n",
       "    </tr>\n",
       "    <tr>\n",
       "      <th>3</th>\n",
       "      <td>6.5</td>\n",
       "      <td>188.00</td>\n",
       "      <td>35658.0</td>\n",
       "      <td>9.1</td>\n",
       "      <td>400.0</td>\n",
       "      <td>500.1</td>\n",
       "      <td>10.8</td>\n",
       "      <td>72.5</td>\n",
       "      <td>4.0</td>\n",
       "      <td>0</td>\n",
       "    </tr>\n",
       "    <tr>\n",
       "      <th>4</th>\n",
       "      <td>7.2</td>\n",
       "      <td>220.00</td>\n",
       "      <td>34186.0</td>\n",
       "      <td>7.4</td>\n",
       "      <td>390.0</td>\n",
       "      <td>610.9</td>\n",
       "      <td>12.1</td>\n",
       "      <td>65.2</td>\n",
       "      <td>4.1</td>\n",
       "      <td>1</td>\n",
       "    </tr>\n",
       "  </tbody>\n",
       "</table>\n",
       "</div>"
      ],
      "text/plain": [
       "    ph  Hardness   Solids  Chloramines  Sulfate  Conductivity  Organic_carbon  \\\n",
       "0  6.7    204.89  20791.3          7.3    368.5         564.3            10.2   \n",
       "1  7.0    129.00  18630.1          6.5    310.1         592.4            11.3   \n",
       "2  8.1    224.00  19909.2          8.2    356.0         624.0            10.5   \n",
       "3  6.5    188.00  35658.0          9.1    400.0         500.1            10.8   \n",
       "4  7.2    220.00  34186.0          7.4    390.0         610.9            12.1   \n",
       "\n",
       "   Trihalomethanes  Turbidity  Potability  \n",
       "0             66.4        3.9           0  \n",
       "1             60.1        4.2           1  \n",
       "2             75.0        3.7           0  \n",
       "3             72.5        4.0           0  \n",
       "4             65.2        4.1           1  "
      ]
     },
     "execution_count": 24,
     "metadata": {},
     "output_type": "execute_result"
    }
   ],
   "source": [
    "from io import StringIO\n",
    "\n",
    "csv_data = StringIO(\"\"\"ph,Hardness,Solids,Chloramines,Sulfate,Conductivity,Organic_carbon,Trihalomethanes,Turbidity,Potability\n",
    "6.7,204.89,20791.3,7.3,368.5,564.3,10.2,66.4,3.9,0\n",
    "7.0,129.0,18630.1,6.5,310.1,592.4,11.3,60.1,4.2,1\n",
    "8.1,224.0,19909.2,8.2,356.0,624.0,10.5,75.0,3.7,0\n",
    "6.5,188.0,35658.0,9.1,400.0,500.1,10.8,72.5,4.0,0\n",
    "7.2,220.0,34186.0,7.4,390.0,610.9,12.1,65.2,4.1,1\"\"\")\n",
    "\n",
    "df = pd.read_csv(csv_data)\n",
    "df.head()\n"
   ]
  },
  {
   "cell_type": "code",
   "execution_count": 25,
   "id": "e09fcfe7-78f3-4eb1-a205-0c3f72700d22",
   "metadata": {},
   "outputs": [],
   "source": [
    "X = df.drop(\"Potability\", axis=1)\n",
    "y = df[\"Potability\"]\n",
    "\n",
    "scaler = StandardScaler()\n",
    "X_scaled = scaler.fit_transform(X)\n",
    "\n",
    "X_train, X_test, y_train, y_test = train_test_split(X_scaled, y, test_size=0.2, random_state=42)\n"
   ]
  },
  {
   "cell_type": "code",
   "execution_count": 26,
   "id": "22b3f7d8-ee6c-4910-8ddb-fdf6f70f855d",
   "metadata": {},
   "outputs": [],
   "source": [
    "model = Sequential([\n",
    "    Dense(16, input_shape=(X_train.shape[1],), activation='relu'),\n",
    "    Dropout(0.2),\n",
    "    Dense(8, activation='relu'),\n",
    "    Dense(1, activation='sigmoid')\n",
    "])\n",
    "\n",
    "model.compile(optimizer='adam', loss='binary_crossentropy', metrics=['accuracy'])\n"
   ]
  },
  {
   "cell_type": "code",
   "execution_count": 27,
   "id": "b201f6a2-836a-4052-bf9e-82799f9173ce",
   "metadata": {},
   "outputs": [],
   "source": [
    "history = model.fit(X_train, y_train, epochs=100, validation_data=(X_test, y_test), verbose=0)\n"
   ]
  },
  {
   "cell_type": "code",
   "execution_count": 28,
   "id": "c23a68ce-06a1-48d8-81f2-f983710276f2",
   "metadata": {},
   "outputs": [
    {
     "data": {
      "image/png": "[encoded data removed]",
      "text/plain": [
       "<Figure size 640x480 with 1 Axes>"
      ]
     },
     "metadata": {},
     "output_type": "display_data"
    }
   ],
   "source": [
    "plt.plot(history.history['accuracy'], label='train accuracy')\n",
    "plt.plot(history.history['val_accuracy'], label='val accuracy')\n",
    "plt.xlabel('Epoch')\n",
    "plt.ylabel('Accuracy')\n",
    "plt.legend()\n",
    "plt.show()\n"
   ]
  },
  {
   "cell_type": "code",
   "execution_count": 29,
   "id": "fe3a4657-c267-426b-96f7-c94c84a489a0",
   "metadata": {},
   "outputs": [
    {
     "name": "stdout",
     "output_type": "stream",
     "text": [
      "1/1 [==============================] - 0s 48ms/step\n",
      "[[0 0]\n",
      " [1 0]]\n",
      "              precision    recall  f1-score   support\n",
      "\n",
      "           0       0.00      1.00      0.00       0.0\n",
      "           1       1.00      0.00      0.00       1.0\n",
      "\n",
      "    accuracy                           1.00       1.0\n",
      "   macro avg       0.50      0.50      0.00       1.0\n",
      "weighted avg       1.00      0.00      0.00       1.0\n",
      "\n"
     ]
    }
   ],
   "source": [
    "y_pred = (model.predict(X_test) > 0.5).astype(\"int32\")\n",
    "print(confusion_matrix(y_test, y_pred))\n",
    "print(classification_report(y_test, y_pred, zero_division=1))\n",
    "\n"
   ]
  },
  {
   "cell_type": "code",
   "execution_count": null,
   "id": "3db83648-00e8-4920-b666-4b3dae7accb7",
   "metadata": {},
   "outputs": [],
   "source": []
  }
 ],
 "metadata": {
  "kernelspec": {
   "display_name": "Python 3 (ipykernel)",
   "language": "python",
   "name": "python3"
  },
  "language_info": {
   "codemirror_mode": {
    "name": "ipython",
    "version": 3
   },
   "file_extension": ".py",
   "mimetype": "text/x-python",
   "name": "python",
   "nbconvert_exporter": "python",
   "pygments_lexer": "ipython3",
   "version": "3.11.9"
  }
 },
 "nbformat": 4,
 "nbformat_minor": 5
}
